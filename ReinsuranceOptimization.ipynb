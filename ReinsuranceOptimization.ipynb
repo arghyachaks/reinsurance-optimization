{
 "cells": [
  {
   "cell_type": "markdown",
   "id": "59acdfae",
   "metadata": {},
   "source": [
    "### Reinsurance Optimization\n",
    "\n",
    "Once upon a time, in the peaceful town of Insureville, there was a small insurance company called SafeGuard Insurance. SafeGuard Insurance provided coverage to the residents of Insureville, protecting them from various risks such as property damage, accidents, and natural disasters. \n",
    "\n",
    "As the business grew, the management of SafeGuard Insurance realized that they needed to manage their own risk exposure more effectively. They decided to explore the world of reinsurance, where they could transfer some of their risks to other companies, called reinsurers. \n",
    "\n",
    "In their quest to find the best reinsurance options, SafeGuard Insurance discovered that there were three different reinsurance layers available in the market, each offered by a different reinsurer. Each layer had its own price tag, coverage limit, and retention level. \n",
    "\n",
    "The first layer, offered by Reinsurer A, cost \\\\$1,000 and provided coverage up to \\\\$50,000. SafeGuard Insurance would retain no risk for this layer. Reinsurer A had a strong credit rating, indicating a low probability of default. \n",
    "\n",
    "The second layer, offered by Reinsurer B, cost \\\\$2,000 and provided coverage up to \\\\$100,000. For this layer, SafeGuard Insurance would retain $50,000 of risk. Reinsurer B had a slightly lower credit rating than Reinsurer A, indicating a slightly higher probability of default. \n",
    "\n",
    "The third layer, offered by Reinsurer C, cost \\\\$3,000 and provided coverage up to \\\\$150,000. SafeGuard Insurance would retain $150,000 of risk for this layer. Reinsurer C had the lowest credit rating among the three reinsurers, indicating a higher probability of default. \n",
    "\n",
    "SafeGuard Insurance wanted to transfer a total of \\\\$180,000 worth of risk to reinsurers while minimizing their costs. They also wanted to ensure that they purchased reinsurance from at least two different reinsurers to diversify their risk and reduce their reliance on any single reinsurer. \n",
    "\n",
    "To find the best combination of reinsurance layers, SafeGuard Insurance used a magical tool called the Reinsurance Optimizer. The Reinsurance Optimizer considered the costs, coverage limits, retentions, and credit ratings of each reinsurance layer, as well as the target risk transfer and diversification requirements. \n",
    "\n",
    "After running the Reinsurance Optimizer, SafeGuard Insurance discovered the optimal solution: they should purchase the first layer from Reinsurer A and the second layer from Reinsurer B. This combination would allow them to transfer the desired amount of risk while minimizing their costs and maintaining diversification. \n",
    "\n",
    "With the help of the Reinsurance Optimizer, SafeGuard Insurance was able to make an informed decision and secure the best reinsurance coverage for their needs. The residents of Insureville continued to enjoy the protection provided by SafeGuard Insurance, knowing that their beloved insurance company was well-prepared to handle any risks that came their way. And they all lived happily ever after."
   ]
  },
  {
   "cell_type": "code",
   "execution_count": 1,
   "id": "5e087c51",
   "metadata": {},
   "outputs": [],
   "source": [
    "import dimod\n",
    "from dwave.system import LeapHybridCQMSampler"
   ]
  },
  {
   "cell_type": "code",
   "execution_count": 2,
   "id": "a9d65daa",
   "metadata": {},
   "outputs": [],
   "source": [
    "# Data  \n",
    "num_layers = 3  \n",
    "reinsurance_costs = [1000, 2000, 3000]  # Cost of each reinsurance layer  \n",
    "reinsurance_limits = [50000, 100000, 150000]  # Limit of each reinsurance layer  \n",
    "reinsurance_retentions = [0, 50000, 150000]  # Retention of each reinsurance layer  \n",
    "reinsurer_credit_ratings = [0.95, 0.90, 0.85]  # Credit rating of each reinsurer (1 - probability of default)  \n",
    "target_risk_transfer = 180000  # Target amount of risk to transfer  \n",
    "min_reinsurers = 2  # Minimum number of different reinsurers for diversification "
   ]
  },
  {
   "cell_type": "markdown",
   "id": "1c7aadfb",
   "metadata": {},
   "source": [
    "#### Devided by 1000 to create smaller solution space"
   ]
  },
  {
   "cell_type": "code",
   "execution_count": 3,
   "id": "7ab87139",
   "metadata": {},
   "outputs": [],
   "source": [
    "# Data  \n",
    "num_layers = 3  \n",
    "reinsurance_costs = [1, 2, 3]  # Cost of each reinsurance layer  \n",
    "reinsurance_limits = [50, 100, 150]  # Limit of each reinsurance layer  \n",
    "reinsurance_retentions = [0, 50, 150]  # Retention of each reinsurance layer  \n",
    "reinsurer_credit_ratings = [0.95, 0.90, 0.85]  # Credit rating of each reinsurer (1 - probability of default)  \n",
    "target_risk_transfer = 180  # Target amount of risk to transfer  \n",
    "min_reinsurers = 2  "
   ]
  },
  {
   "cell_type": "code",
   "execution_count": 4,
   "id": "9b7091b3",
   "metadata": {},
   "outputs": [],
   "source": [
    "# Create binary variables y[i] representing whether reinsurance layer i is purchased  \n",
    "y = {}  \n",
    "for i in range(num_layers):  \n",
    "    y[i] = dimod.Binary(f'y[{i}]')"
   ]
  },
  {
   "cell_type": "code",
   "execution_count": 5,
   "id": "b4f8ddac",
   "metadata": {},
   "outputs": [],
   "source": [
    "cqm = dimod.ConstrainedQuadraticModel()"
   ]
  },
  {
   "cell_type": "code",
   "execution_count": 6,
   "id": "a06c72da",
   "metadata": {},
   "outputs": [
    {
     "data": {
      "text/plain": [
       "'cbbee7f'"
      ]
     },
     "execution_count": 6,
     "metadata": {},
     "output_type": "execute_result"
    }
   ],
   "source": [
    "# Create constraints to ensure the target risk transfer is achieved  \n",
    "cqm.add_constraint(sum([y[i] * reinsurance_limits[i] for i in range(num_layers)]) >= target_risk_transfer )"
   ]
  },
  {
   "cell_type": "code",
   "execution_count": 7,
   "id": "4e1b0d8c",
   "metadata": {},
   "outputs": [
    {
     "data": {
      "text/plain": [
       "'ca6fbd5'"
      ]
     },
     "execution_count": 7,
     "metadata": {},
     "output_type": "execute_result"
    }
   ],
   "source": [
    "# Create constraints to ensure diversification  \n",
    "cqm.add_constraint(sum([y[i] for i in range(num_layers)]) >= min_reinsurers) "
   ]
  },
  {
   "cell_type": "code",
   "execution_count": 8,
   "id": "6da8e2a0",
   "metadata": {},
   "outputs": [],
   "source": [
    "# Define the objective function: minimize the total cost of reinsurance, adjusted for counterparty risk  \n",
    "objective = sum([reinsurance_costs[i] * y[i] / reinsurer_credit_ratings[i] for i in range(num_layers)])  \n",
    "cqm.set_objective(objective)"
   ]
  },
  {
   "cell_type": "code",
   "execution_count": 9,
   "id": "022a2993",
   "metadata": {},
   "outputs": [],
   "source": [
    "DWAVE_API_TOKEN = \"DEV-*******\" # Add your D-wave API Token"
   ]
  },
  {
   "cell_type": "code",
   "execution_count": 10,
   "id": "5ca39135",
   "metadata": {},
   "outputs": [],
   "source": [
    "sampler = LeapHybridCQMSampler(token = DWAVE_API_TOKEN)"
   ]
  },
  {
   "cell_type": "code",
   "execution_count": 11,
   "id": "07338735",
   "metadata": {},
   "outputs": [],
   "source": [
    "sampleset = sampler.sample_cqm(cqm,time_limit=180,label=\"Reinsurance Optimization\") "
   ]
  },
  {
   "cell_type": "code",
   "execution_count": 12,
   "id": "fa2719c9",
   "metadata": {},
   "outputs": [],
   "source": [
    "best = sampleset.first"
   ]
  },
  {
   "cell_type": "code",
   "execution_count": 20,
   "id": "df09a893",
   "metadata": {},
   "outputs": [
    {
     "name": "stdout",
     "output_type": "stream",
     "text": [
      "Minimum total reinsurance cost (adjusted for counterparty risk): 3274.8538011695905\n"
     ]
    }
   ],
   "source": [
    "print(f'Minimum total reinsurance cost (adjusted for counterparty risk): {best.energy*1000}') "
   ]
  },
  {
   "cell_type": "code",
   "execution_count": 21,
   "id": "7663a6ca",
   "metadata": {},
   "outputs": [
    {
     "name": "stdout",
     "output_type": "stream",
     "text": [
      "Optimal reinsurance layers to purchase: ['y[0]', 'y[1]']\n"
     ]
    }
   ],
   "source": [
    "output_layers = best.sample\n",
    "selected_layers = []\n",
    "for x, y in output_layers.items():\n",
    "    if y > 0:\n",
    "        selected_layers.append(x)\n",
    "print(f'Optimal reinsurance layers to purchase: {selected_layers}') "
   ]
  },
  {
   "cell_type": "markdown",
   "id": "396c7177",
   "metadata": {},
   "source": [
    "### Output Summary\n",
    "\n",
    "The \"Minimum total reinsurance cost (adjusted for counterparty risk)\" is the lowest possible cost that SafeGuard Insurance can achieve when purchasing reinsurance, while taking into account the credit ratings of the reinsurers. \n",
    "\n",
    "In this context, counterparty risk refers to the risk that a reinsurer may default on its obligations to pay claims. A reinsurer's credit rating is used as a proxy for this risk, with higher credit ratings indicating a lower probability of default. \n",
    "\n",
    "When calculating the total reinsurance cost, the Reinsurance Optimizer adjusts the cost of each reinsurance layer by dividing it by the reinsurer's credit rating. This adjustment ensures that the optimizer considers not only the direct cost of purchasing reinsurance but also the potential risk associated with each reinsurer's financial strength. \n",
    "\n",
    "By minimizing the total reinsurance cost adjusted for counterparty risk, SafeGuard Insurance can find the most cost-effective combination of reinsurance layers while also managing the risk associated with relying on reinsurers with varying credit ratings. This helps SafeGuard Insurance strike a balance between cost savings and risk management."
   ]
  },
  {
   "cell_type": "code",
   "execution_count": null,
   "id": "1d7e880c",
   "metadata": {},
   "outputs": [],
   "source": []
  }
 ],
 "metadata": {
  "kernelspec": {
   "display_name": "Python 3 (ipykernel)",
   "language": "python",
   "name": "python3"
  },
  "language_info": {
   "codemirror_mode": {
    "name": "ipython",
    "version": 3
   },
   "file_extension": ".py",
   "mimetype": "text/x-python",
   "name": "python",
   "nbconvert_exporter": "python",
   "pygments_lexer": "ipython3",
   "version": "3.10.9"
  }
 },
 "nbformat": 4,
 "nbformat_minor": 5
}
